{
 "cells": [
  {
   "cell_type": "code",
   "execution_count": 1,
   "metadata": {},
   "outputs": [],
   "source": [
    "%matplotlib inline\n",
    "import numpy as np\n",
    "import pandas as pd\n",
    "import matplotlib.pyplot as plt"
   ]
  },
  {
   "cell_type": "code",
   "execution_count": 2,
   "metadata": {},
   "outputs": [
    {
     "data": {
      "image/png": "[encoded data removed]",
      "text/plain": [
       "<Figure size 432x288 with 1 Axes>"
      ]
     },
     "metadata": {
      "needs_background": "light"
     },
     "output_type": "display_data"
    }
   ],
   "source": [
    "from sklearn.datasets import make_moons\n",
    "\n",
    "np.random.seed(1)\n",
    "\n",
    "X, y = make_moons(n_samples = 100, noise = 0.15) # generate non-linear separable data\n",
    "y = np.where(y == 0, -1, 1)\n",
    "\n",
    "plt.scatter(X[y == -1, 0], X[y == -1, 1], color = \"red\", marker = \"o\", label = \"Class A\")\n",
    "plt.scatter(X[y ==  1, 0], X[y ==  1, 1], color = \"green\", marker = \"s\", label = \"Class B\")\n",
    "plt.xlabel(\"$x_1$\")\n",
    "plt.ylabel(\"$x_2$\")\n",
    "plt.legend(loc = 1)\n",
    "plt.show()"
   ]
  },
  {
   "cell_type": "code",
   "execution_count": 3,
   "metadata": {},
   "outputs": [],
   "source": [
    "class NeuralNetwork:\n",
    "    \"\"\"\n",
    "    Neural Network Model\n",
    "    \"\"\"\n",
    "    def __init__(self, dim, eta = 1e-1, epoch = 1000):\n",
    "        self.dim = dim # vector with layers dimensions - including input (0) and output (L)\n",
    "        self.L = len(dim) - 1 # 'L' equals to the number of layers, which does not count input (0)\n",
    "        self.eta = eta\n",
    "        self.epoch = epoch\n",
    "    \n",
    "    \n",
    "    def initialize_(self):\n",
    "        rn = np.random.RandomState(1)\n",
    "        self.w_ = {} # it will include 'bias'\n",
    "        \n",
    "        for l in np.arange(1, self.L + 1):\n",
    "            self.w_['W' + str(l)] = rn.normal(0, 1e-1, (self.dim[l - 1] + 1) * self.dim[l]).reshape(self.dim[l - 1] + 1, self.dim[l])\n",
    "    \n",
    "    \n",
    "    def theta_(self, s):\n",
    "        return (np.exp(s) - np.exp(-1 * s)) / (np.exp(s) + np.exp(-1 * s))\n",
    "    \n",
    "    \n",
    "    def forward_propagation_(self, X_n):\n",
    "        X_n = np.r_[1, X_n]\n",
    "        self.s_ = {}\n",
    "        self.x_ = {}\n",
    "        self.x_['x0'] = X_n\n",
    "        \n",
    "        for l in np.arange(1, self.L + 1):\n",
    "            self.s_['s' + str(l)] = np.dot(self.w_['W' + str(l)].T, self.x_['x' + str(l - 1)])\n",
    "            self.x_['x' + str(l)] = np.r_[1, self.theta_(self.s_['s' + str(l)])]\n",
    "            \n",
    "        self.x_['x' + str(self.L)] = self.x_['x' + str(self.L)][1:] # do not use extra '1' at the last layer\n",
    "        return self.x_['x' + str(self.L)]\n",
    "    \n",
    "    \n",
    "    def back_propagation_(self, x_n, y_n):\n",
    "        self.d_ = {}\n",
    "        self.d_['d' + str(self.L)] = 2 * (self.x_['x' + str(self.L)] - y_n) * (1 - (self.x_['x' + str(self.L)]) ** 2)\n",
    "        \n",
    "        for l in np.arange(self.L - 1, 0, -1): # reverse order iteration, from 'L - 1' to 1 (inclusive)\n",
    "            t_prime = 1 - np.multiply(self.x_['x' + str(l)], self.x_['x' + str(l)])[1:]\n",
    "            self.d_['d' + str(l)] = np.multiply(t_prime, (np.dot(self.w_['W' + str(l + 1)], self.d_['d' + str(l + 1)]))[1:])          \n",
    "           \n",
    "        \n",
    "    def fit(self, X, y):\n",
    "        self.initialize_()\n",
    "        \n",
    "        for n in np.arange(self.epoch):\n",
    "\n",
    "            error_in = 0\n",
    "            self.g_ = {}\n",
    "            for item in np.arange(1, len(self.w_) + 1): # initialize 'G' matrix with all entries being zero \n",
    "                self.g_['G' + str(item)] = 0 * self.w_['W' + str(item)]\n",
    "\n",
    "            for X_n, y_n in zip(X, y):\n",
    "                self.forward_propagation_(X_n)\n",
    "                self.back_propagation_(X_n, y_n)\n",
    "                error_in += (1 / X.shape[0]) * (self.x_['x' + str(self.L)] - y_n) ** 2\n",
    "\n",
    "                for l in np.arange(1, self.L + 1):\n",
    "                    g_X_n = np.dot(self.x_['x' + str(l - 1)].reshape(self.x_['x' + str(l - 1)].shape[0], 1), self.d_['d' + str(l)].reshape(1, self.d_['d' + str(l)].shape[0])) # it uses a trick to reshape lists to perform a dot product\n",
    "                    self.g_['G' + str(l)] = self.g_['G' + str(l)] + (1 / X.shape[0]) * g_X_n\n",
    "\n",
    "            for item in np.arange(1, len(self.w_) + 1): # update weights\n",
    "                self.w_['W' + str(item)] -= self.eta * self.g_['G' + str(item)]\n",
    "            \n",
    "            if n % 1000 == 0: print(\"Epoch n. {:4d}: {:.8f}.\".format(n, error_in[0]))\n",
    "            \n",
    "        return error_in # return final 'error_in'\n",
    "            \n",
    "        \n",
    "    def predict(self, X):\n",
    "        prediction = []\n",
    "        \n",
    "        for item in X:\n",
    "            prediction.append(self.forward_propagation_(item))\n",
    "            \n",
    "        return np.where(np.asarray(prediction) >= 0, 1, -1)"
   ]
  },
  {
   "cell_type": "code",
   "execution_count": 4,
   "metadata": {},
   "outputs": [
    {
     "name": "stdout",
     "output_type": "stream",
     "text": [
      "Epoch n.    0: 1.01090254.\n",
      "Epoch n. 1000: 0.34815072.\n",
      "Epoch n. 2000: 0.34731439.\n",
      "Epoch n. 3000: 0.34721020.\n",
      "Epoch n. 4000: 0.34710094.\n",
      "Epoch n. 5000: 0.34697082.\n",
      "Epoch n. 6000: 0.34678815.\n",
      "Epoch n. 7000: 0.34647321.\n",
      "Epoch n. 8000: 0.34577426.\n",
      "Epoch n. 9000: 0.34355829.\n",
      "Epoch n. 10000: 0.32932046.\n",
      "CPU times: user 5min 51s, sys: 344 ms, total: 5min 51s\n",
      "Wall time: 5min 51s\n"
     ]
    }
   ],
   "source": [
    "%%time\n",
    "\n",
    "my_nn = NeuralNetwork(dim = [X.shape[1], 16, 16, 16, 1], eta = 1e-2, epoch = 10000)\n",
    "error_in = my_nn.fit(X, y)\n",
    "print(\"Epoch n. {:4d}: {:.8f}.\".format(my_nn.epoch, error_in[0]))"
   ]
  },
  {
   "cell_type": "code",
   "execution_count": 5,
   "metadata": {},
   "outputs": [],
   "source": [
    "def plot_decision_regions(X, y, classifier, feature_names, resolution = 1e-2, plot_lim = 0.25):\n",
    "    # general settings\n",
    "    markers = [\"o\", \"s\", \"*\", \"x\", \"v\"]\n",
    "    colors  = (\"red\", \"green\", \"blue\", \"gray\", \"cyan\")\n",
    "    x1_min, x1_max = X[:, 0].min() - plot_lim, X[:, 0].max() + plot_lim\n",
    "    x2_min, x2_max = X[:, 1].min() - plot_lim, X[:, 1].max() + plot_lim\n",
    "    # define a grid\n",
    "    xx1, xx2 = np.meshgrid(np.arange(x1_min, x1_max, resolution),\n",
    "                           np.arange(x2_min, x2_max, resolution))\n",
    "    # classify each grid point\n",
    "    result = classifier.predict(np.array([xx1.ravel(), xx2.ravel()]).T)\n",
    "    result = result.reshape(xx1.shape)\n",
    "    # make a plot\n",
    "    plt.contourf(xx1, xx2, result, colors = colors[0:len(np.unique(y))], alpha = 0.5)\n",
    "    for index, value in enumerate(np.unique(y)): \n",
    "        plt.scatter(x = X[y == value, 0], y = X[y == value, 1], \n",
    "                    color = colors[index],\n",
    "                    marker = markers[index],\n",
    "                    label = feature_names[index],\n",
    "                    edgecolor = 'black')"
   ]
  },
  {
   "cell_type": "code",
   "execution_count": 6,
   "metadata": {},
   "outputs": [
    {
     "data": {
      "image/png": "[encoded data removed]",
      "text/plain": [
       "<Figure size 432x288 with 1 Axes>"
      ]
     },
     "metadata": {
      "needs_background": "light"
     },
     "output_type": "display_data"
    }
   ],
   "source": [
    "feature_names = ['Classe A', 'Classe B']\n",
    "plot_decision_regions(X, y, my_nn, feature_names, plot_lim = 0.15)\n",
    "plt.title(\"Fitted Model with Implementation of Neural Network\")\n",
    "plt.xlabel(\"$x_1$\")\n",
    "plt.ylabel(\"$x_2$\")\n",
    "plt.legend(loc = 2)\n",
    "plt.show()"
   ]
  },
  {
   "cell_type": "code",
   "execution_count": 7,
   "metadata": {},
   "outputs": [],
   "source": [
    "class NeuralNetworkSGD(NeuralNetwork):\n",
    "    \"\"\"\n",
    "    Neural Network Model using Stochastic Gradient Descent (S.G.D.)\n",
    "    \"\"\"        \n",
    "    def fit(self, X, y):\n",
    "        self.initialize_()\n",
    "        \n",
    "        for n in np.arange(1, self.epoch + 1):\n",
    "        \n",
    "        \n",
    "            rand_number = np.random.choice(np.arange(X.shape[0]))\n",
    "        \n",
    "            X_n = X[rand_number]\n",
    "            y_n = y[rand_number] \n",
    "\n",
    "            self.forward_propagation_(X_n)\n",
    "            self.back_propagation_(X_n, y_n)\n",
    "            \n",
    "            for item in np.arange(1, len(self.w_) + 1): # update weights\n",
    "                self.w_['W' + str(item)] -= self.eta * np.dot(self.x_['x' + str(item - 1)].reshape(self.x_['x' + str(item - 1)].shape[0], 1), self.d_['d' + str(item)].reshape(1, self.d_['d' + str(item)].shape[0]))\n",
    "              \n",
    "        error_in = 0\n",
    "        \n",
    "        for X_n, y_n in zip (X, y):            \n",
    "            error_in += (1 / X.shape[0]) * ((self.forward_propagation_(X_n) - y_n) ** 2)\n",
    "\n",
    "        return error_in"
   ]
  },
  {
   "cell_type": "code",
   "execution_count": 8,
   "metadata": {},
   "outputs": [
    {
     "name": "stdout",
     "output_type": "stream",
     "text": [
      "Epoch n. 10000: 0.01763535.\n",
      "CPU times: user 49.2 s, sys: 29.2 s, total: 1min 18s\n",
      "Wall time: 20.5 s\n"
     ]
    }
   ],
   "source": [
    "%%time\n",
    "\n",
    "my_nn_mod = NeuralNetworkSGD(dim = [X.shape[1], 256, 256, 256, 1], eta = 1e-2, epoch = 10000)\n",
    "error_in  = my_nn_mod.fit(X, y)\n",
    "print(\"Epoch n. {:4d}: {:.8f}.\".format(my_nn_mod.epoch, error_in[0]))"
   ]
  },
  {
   "cell_type": "code",
   "execution_count": 9,
   "metadata": {},
   "outputs": [
    {
     "data": {
      "image/png": "[encoded data removed]",
      "text/plain": [
       "<Figure size 432x288 with 1 Axes>"
      ]
     },
     "metadata": {
      "needs_background": "light"
     },
     "output_type": "display_data"
    }
   ],
   "source": [
    "feature_names = ['Classe A', 'Classe B']\n",
    "plot_decision_regions(X, y, my_nn_mod, feature_names, plot_lim = 0.15)\n",
    "plt.title(\"Fitted Model with Implementation of N.N. using S.G.D.\")\n",
    "plt.xlabel(\"$x_1$\")\n",
    "plt.ylabel(\"$x_2$\")\n",
    "plt.legend(loc = 2)\n",
    "plt.show()"
   ]
  }
 ],
 "metadata": {
  "kernelspec": {
   "display_name": "Python 3",
   "language": "python",
   "name": "python3"
  },
  "language_info": {
   "codemirror_mode": {
    "name": "ipython",
    "version": 3
   },
   "file_extension": ".py",
   "mimetype": "text/x-python",
   "name": "python",
   "nbconvert_exporter": "python",
   "pygments_lexer": "ipython3",
   "version": "3.6.9"
  }
 },
 "nbformat": 4,
 "nbformat_minor": 2
}
