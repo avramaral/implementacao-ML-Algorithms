{
 "cells": [
  {
   "cell_type": "code",
   "execution_count": 1,
   "metadata": {},
   "outputs": [],
   "source": [
    "%matplotlib inline\n",
    "import numpy as np\n",
    "import pandas as pd\n",
    "import matplotlib.pyplot as plt"
   ]
  },
  {
   "cell_type": "code",
   "execution_count": 2,
   "metadata": {},
   "outputs": [],
   "source": [
    "# Iris Data Set\n",
    "df = pd.read_csv(\"https://bit.ly/2Mg0qkZ\", header = None, encoding = \"UTF\")"
   ]
  },
  {
   "cell_type": "code",
   "execution_count": 3,
   "metadata": {},
   "outputs": [
    {
     "data": {
      "text/html": [
       "<div>\n",
       "<style scoped>\n",
       "    .dataframe tbody tr th:only-of-type {\n",
       "        vertical-align: middle;\n",
       "    }\n",
       "\n",
       "    .dataframe tbody tr th {\n",
       "        vertical-align: top;\n",
       "    }\n",
       "\n",
       "    .dataframe thead th {\n",
       "        text-align: right;\n",
       "    }\n",
       "</style>\n",
       "<table border=\"1\" class=\"dataframe\">\n",
       "  <thead>\n",
       "    <tr style=\"text-align: right;\">\n",
       "      <th></th>\n",
       "      <th>sepal-length</th>\n",
       "      <th>sepal-width</th>\n",
       "      <th>petal-length</th>\n",
       "      <th>petal-width</th>\n",
       "      <th>category</th>\n",
       "    </tr>\n",
       "  </thead>\n",
       "  <tbody>\n",
       "    <tr>\n",
       "      <th>0</th>\n",
       "      <td>5.1</td>\n",
       "      <td>3.5</td>\n",
       "      <td>1.4</td>\n",
       "      <td>0.2</td>\n",
       "      <td>Iris-setosa</td>\n",
       "    </tr>\n",
       "    <tr>\n",
       "      <th>1</th>\n",
       "      <td>4.9</td>\n",
       "      <td>3.0</td>\n",
       "      <td>1.4</td>\n",
       "      <td>0.2</td>\n",
       "      <td>Iris-setosa</td>\n",
       "    </tr>\n",
       "    <tr>\n",
       "      <th>2</th>\n",
       "      <td>4.7</td>\n",
       "      <td>3.2</td>\n",
       "      <td>1.3</td>\n",
       "      <td>0.2</td>\n",
       "      <td>Iris-setosa</td>\n",
       "    </tr>\n",
       "    <tr>\n",
       "      <th>3</th>\n",
       "      <td>4.6</td>\n",
       "      <td>3.1</td>\n",
       "      <td>1.5</td>\n",
       "      <td>0.2</td>\n",
       "      <td>Iris-setosa</td>\n",
       "    </tr>\n",
       "    <tr>\n",
       "      <th>4</th>\n",
       "      <td>5.0</td>\n",
       "      <td>3.6</td>\n",
       "      <td>1.4</td>\n",
       "      <td>0.2</td>\n",
       "      <td>Iris-setosa</td>\n",
       "    </tr>\n",
       "  </tbody>\n",
       "</table>\n",
       "</div>"
      ],
      "text/plain": [
       "   sepal-length  sepal-width  petal-length  petal-width     category\n",
       "0           5.1          3.5           1.4          0.2  Iris-setosa\n",
       "1           4.9          3.0           1.4          0.2  Iris-setosa\n",
       "2           4.7          3.2           1.3          0.2  Iris-setosa\n",
       "3           4.6          3.1           1.5          0.2  Iris-setosa\n",
       "4           5.0          3.6           1.4          0.2  Iris-setosa"
      ]
     },
     "execution_count": 3,
     "metadata": {},
     "output_type": "execute_result"
    }
   ],
   "source": [
    "df.columns = ['sepal-length', 'sepal-width', 'petal-length', 'petal-width', 'category']\n",
    "df.head()"
   ]
  },
  {
   "cell_type": "code",
   "execution_count": 4,
   "metadata": {
    "scrolled": true
   },
   "outputs": [
    {
     "data": {
      "image/png": "[encoded data removed]",
      "text/plain": [
       "<Figure size 432x288 with 1 Axes>"
      ]
     },
     "metadata": {
      "needs_background": "light"
     },
     "output_type": "display_data"
    }
   ],
   "source": [
    "df = df.loc[0:100, ['sepal-length', 'petal-length', 'category']]\n",
    "\n",
    "X = df.loc[0:100, ['sepal-length', 'petal-length']].values\n",
    "y = df.category.values\n",
    "y = np.where(y == 'Iris-setosa', -1, 1)\n",
    "\n",
    "plt.scatter(X[0:50, 0], X[0:50, 1], color = \"red\", marker = \"o\", label = \"Iris-ventosa\")\n",
    "plt.scatter(X[50:100, 0], X[50:100, 1], color = \"green\", marker = \"s\", label = \"Iris-versicolor\")\n",
    "plt.xlabel('Sepal length [cm]')\n",
    "plt.ylabel('Petal length [cm]')\n",
    "plt.legend(loc = 2)\n",
    "plt.show()"
   ]
  },
  {
   "cell_type": "code",
   "execution_count": 5,
   "metadata": {},
   "outputs": [],
   "source": [
    "# Raw implementation\n",
    "class Perceptron:\n",
    "    \"\"\"\n",
    "    Perceptron learning algorithm implementation\n",
    "    \"\"\"\n",
    "    \n",
    "    def __init__(self, eta = 1, random_seed = 1):\n",
    "        self.eta = eta\n",
    "        self.random_seed = random_seed\n",
    "        \n",
    "    def fit(self, X, y):\n",
    "        rn = np.random.RandomState(self.random_seed)\n",
    "        self.w_ = rn.normal(loc = 0, scale = 0.01, size = X.shape[1] + 1)\n",
    "        errors = True\n",
    "        \n",
    "        while errors:\n",
    "            errors = 0\n",
    "            for X_i, y_i in zip(X, y):\n",
    "                if y_i != self.predict(X_i):\n",
    "                    # update weights vector for misclassified points\n",
    "                    update = self.eta * y_i\n",
    "                    self.w_[1:] += update * X_i\n",
    "                    self.w_[0] += update \n",
    "                    errors += 1\n",
    "                    \n",
    "        return self\n",
    "    \n",
    "    def predict(self, X_i):\n",
    "        eval_func = np.dot(X_i, self.w_[1:]) + self.w_[0] # ATTENTION: this implemented arguments order is more intuitive\n",
    "        return np.where(eval_func >= 0, 1, -1)"
   ]
  },
  {
   "cell_type": "code",
   "execution_count": 6,
   "metadata": {},
   "outputs": [
    {
     "name": "stdout",
     "output_type": "stream",
     "text": [
      "Weights vector: [-1.98375655 -3.50611756  9.19471828].\n"
     ]
    }
   ],
   "source": [
    "my_perceptron = Perceptron()\n",
    "my_perceptron.fit(X, y)\n",
    "\n",
    "print(\"Weights vector: {}.\".format(my_perceptron.w_))"
   ]
  },
  {
   "cell_type": "code",
   "execution_count": 7,
   "metadata": {},
   "outputs": [],
   "source": [
    "def plot_decision_regions(X, y, classifier, feature_names, resolution = 0.01):\n",
    "    # general settings\n",
    "    markers = [\"o\", \"s\", \"*\", \"x\", \"v\"]\n",
    "    colors  = (\"red\", \"green\", \"blue\", \"gray\", \"cyan\")\n",
    "    x1_min, x1_max = X[:, 0].min() - 0.5, X[:, 0].max() + 0.5\n",
    "    x2_min, x2_max = X[:, 1].min() - 0.5, X[:, 1].max() + 0.5\n",
    "    # define a grid\n",
    "    xx1, xx2 = np.meshgrid(np.arange(x1_min, x1_max, resolution),\n",
    "                           np.arange(x2_min, x2_max, resolution))\n",
    "    # classify each grid point\n",
    "    result = classifier.predict(np.array([xx1.ravel(), xx2.ravel()]).T)\n",
    "    result = result.reshape(xx1.shape)\n",
    "    # make a plot\n",
    "    plt.contourf(xx1, xx2, result, colors = colors[0:len(np.unique(y))], alpha = 0.5)\n",
    "    for index, value in enumerate(np.unique(y)): # plot each point & 'enumerate()' returns index and value of the given array\n",
    "        plt.scatter(x = X[y == value, 0], y = X[y == value, 1], # select each X and y vectors by creating a mask\n",
    "                    color = colors[index],\n",
    "                    marker = markers[index],\n",
    "                    label = feature_names[index],\n",
    "                    edgecolor = 'black')"
   ]
  },
  {
   "cell_type": "code",
   "execution_count": 8,
   "metadata": {},
   "outputs": [
    {
     "data": {
      "image/png": "[encoded data removed]",
      "text/plain": [
       "<Figure size 432x288 with 1 Axes>"
      ]
     },
     "metadata": {
      "needs_background": "light"
     },
     "output_type": "display_data"
    }
   ],
   "source": [
    "feature_names = ['Iris ventosa', 'Iris versicolor']\n",
    "plot_decision_regions(X, y, my_perceptron, feature_names)\n",
    "plt.title('Fitted model with raw implementation')\n",
    "plt.xlabel('Sepal length [cm]')\n",
    "plt.ylabel('Petal length [cm]')\n",
    "plt.legend(loc = 2)\n",
    "plt.show()"
   ]
  },
  {
   "cell_type": "code",
   "execution_count": 9,
   "metadata": {},
   "outputs": [
    {
     "name": "stdout",
     "output_type": "stream",
     "text": [
      "Weight vector (without w_0): [[-2.4  5. ]].\n"
     ]
    }
   ],
   "source": [
    "# Sklearn usage\n",
    "from sklearn.linear_model import Perceptron\n",
    "\n",
    "sklearn_perceptron = Perceptron()\n",
    "sklearn_perceptron.fit(X, y)\n",
    "\n",
    "print(\"Weight vector (without w_0): {}.\".format(sklearn_perceptron.coef_))"
   ]
  },
  {
   "cell_type": "code",
   "execution_count": 10,
   "metadata": {},
   "outputs": [
    {
     "data": {
      "image/png": "[encoded data removed]",
      "text/plain": [
       "<Figure size 432x288 with 1 Axes>"
      ]
     },
     "metadata": {
      "needs_background": "light"
     },
     "output_type": "display_data"
    }
   ],
   "source": [
    "feature_names = ['Iris ventosa', 'Iris versicolor']\n",
    "plot_decision_regions(X, y, sklearn_perceptron, feature_names)\n",
    "plt.title('Fiited model with Sklearn usage')\n",
    "plt.xlabel('Sepal length [cm]')\n",
    "plt.ylabel('Petal length [cm]')\n",
    "plt.legend(loc = 2)\n",
    "plt.show()"
   ]
  }
 ],
 "metadata": {
  "kernelspec": {
   "display_name": "Python 3",
   "language": "python",
   "name": "python3"
  },
  "language_info": {
   "codemirror_mode": {
    "name": "ipython",
    "version": 3
   },
   "file_extension": ".py",
   "mimetype": "text/x-python",
   "name": "python",
   "nbconvert_exporter": "python",
   "pygments_lexer": "ipython3",
   "version": "3.6.9"
  }
 },
 "nbformat": 4,
 "nbformat_minor": 2
}
