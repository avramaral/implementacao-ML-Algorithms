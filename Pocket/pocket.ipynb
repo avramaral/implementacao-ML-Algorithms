{
 "cells": [
  {
   "cell_type": "code",
   "execution_count": 1,
   "metadata": {},
   "outputs": [],
   "source": [
    "%matplotlib inline\n",
    "import numpy as np\n",
    "import pandas as pd\n",
    "import matplotlib.pyplot as plt"
   ]
  },
  {
   "cell_type": "code",
   "execution_count": 2,
   "metadata": {},
   "outputs": [
    {
     "data": {
      "text/html": [
       "<div>\n",
       "<style scoped>\n",
       "    .dataframe tbody tr th:only-of-type {\n",
       "        vertical-align: middle;\n",
       "    }\n",
       "\n",
       "    .dataframe tbody tr th {\n",
       "        vertical-align: top;\n",
       "    }\n",
       "\n",
       "    .dataframe thead th {\n",
       "        text-align: right;\n",
       "    }\n",
       "</style>\n",
       "<table border=\"1\" class=\"dataframe\">\n",
       "  <thead>\n",
       "    <tr style=\"text-align: right;\">\n",
       "      <th></th>\n",
       "      <th>number</th>\n",
       "      <th>intensity</th>\n",
       "      <th>symmetry</th>\n",
       "    </tr>\n",
       "  </thead>\n",
       "  <tbody>\n",
       "    <tr>\n",
       "      <th>0</th>\n",
       "      <td>6</td>\n",
       "      <td>0.341092</td>\n",
       "      <td>-4.528937</td>\n",
       "    </tr>\n",
       "    <tr>\n",
       "      <th>1</th>\n",
       "      <td>5</td>\n",
       "      <td>0.444131</td>\n",
       "      <td>-5.496812</td>\n",
       "    </tr>\n",
       "    <tr>\n",
       "      <th>2</th>\n",
       "      <td>4</td>\n",
       "      <td>0.231002</td>\n",
       "      <td>-2.886750</td>\n",
       "    </tr>\n",
       "  </tbody>\n",
       "</table>\n",
       "</div>"
      ],
      "text/plain": [
       "   number  intensity  symmetry\n",
       "0       6   0.341092 -4.528937\n",
       "1       5   0.444131 -5.496812\n",
       "2       4   0.231002 -2.886750"
      ]
     },
     "execution_count": 2,
     "metadata": {},
     "output_type": "execute_result"
    }
   ],
   "source": [
    "df = pd.read_csv(\"http://www.amlbook.com/data/zip/features.train\", header = None, delimiter = r\"\\s+\")\n",
    "df.columns = ['number', 'intensity', 'symmetry']\n",
    "df['number'] = df['number'].astype(int) \n",
    "df.head(3)"
   ]
  },
  {
   "cell_type": "code",
   "execution_count": 3,
   "metadata": {},
   "outputs": [
    {
     "data": {
      "text/html": [
       "<div>\n",
       "<style scoped>\n",
       "    .dataframe tbody tr th:only-of-type {\n",
       "        vertical-align: middle;\n",
       "    }\n",
       "\n",
       "    .dataframe tbody tr th {\n",
       "        vertical-align: top;\n",
       "    }\n",
       "\n",
       "    .dataframe thead th {\n",
       "        text-align: right;\n",
       "    }\n",
       "</style>\n",
       "<table border=\"1\" class=\"dataframe\">\n",
       "  <thead>\n",
       "    <tr style=\"text-align: right;\">\n",
       "      <th></th>\n",
       "      <th>number</th>\n",
       "      <th>intensity</th>\n",
       "      <th>symmetry</th>\n",
       "    </tr>\n",
       "  </thead>\n",
       "  <tbody>\n",
       "    <tr>\n",
       "      <th>0</th>\n",
       "      <td>5</td>\n",
       "      <td>0.444131</td>\n",
       "      <td>-5.496812</td>\n",
       "    </tr>\n",
       "    <tr>\n",
       "      <th>1</th>\n",
       "      <td>1</td>\n",
       "      <td>0.123043</td>\n",
       "      <td>-0.707875</td>\n",
       "    </tr>\n",
       "    <tr>\n",
       "      <th>2</th>\n",
       "      <td>1</td>\n",
       "      <td>0.113859</td>\n",
       "      <td>-0.931375</td>\n",
       "    </tr>\n",
       "  </tbody>\n",
       "</table>\n",
       "</div>"
      ],
      "text/plain": [
       "   number  intensity  symmetry\n",
       "0       5   0.444131 -5.496812\n",
       "1       1   0.123043 -0.707875\n",
       "2       1   0.113859 -0.931375"
      ]
     },
     "execution_count": 3,
     "metadata": {},
     "output_type": "execute_result"
    }
   ],
   "source": [
    "mask = ((df.number == 1) | (df.number == 5)) # select only numbers '1' and '5'\n",
    "df = df[mask]\n",
    "df = df.reset_index(drop = True)\n",
    "df.head(3)"
   ]
  },
  {
   "cell_type": "code",
   "execution_count": 4,
   "metadata": {},
   "outputs": [
    {
     "name": "stdout",
     "output_type": "stream",
     "text": [
      "<class 'pandas.core.frame.DataFrame'>\n",
      "RangeIndex: 1561 entries, 0 to 1560\n",
      "Data columns (total 3 columns):\n",
      "number       1561 non-null int64\n",
      "intensity    1561 non-null float64\n",
      "symmetry     1561 non-null float64\n",
      "dtypes: float64(2), int64(1)\n",
      "memory usage: 36.7 KB\n"
     ]
    }
   ],
   "source": [
    "df.info()"
   ]
  },
  {
   "cell_type": "code",
   "execution_count": 5,
   "metadata": {},
   "outputs": [
    {
     "data": {
      "image/png": "[encoded data removed]",
      "text/plain": [
       "<Figure size 432x288 with 1 Axes>"
      ]
     },
     "metadata": {
      "needs_background": "light"
     },
     "output_type": "display_data"
    }
   ],
   "source": [
    "X = df.loc[:, ['intensity', 'symmetry']].values\n",
    "y = df.loc[:, 'number'].values\n",
    "y = np.where(y == 1, -1, 1) # maps 1 to -1, and 5 to 1\n",
    "\n",
    "plt.scatter(X[y == -1, 0], X[y == -1, 1], color = \"red\", marker = \"o\", label = \"Number 1\")\n",
    "plt.scatter(X[y ==  1, 0], X[y ==  1, 1], color = \"green\", marker = \"s\", label = \"Number 5\")\n",
    "plt.xlabel(\"Intensity measure\")\n",
    "plt.ylabel(\"Symmetry measure\")\n",
    "plt.legend(loc = 1)\n",
    "plt.show()"
   ]
  },
  {
   "cell_type": "code",
   "execution_count": 6,
   "metadata": {},
   "outputs": [],
   "source": [
    "# Raw implementation\n",
    "class Pocket:\n",
    "    \"\"\"\n",
    "    Pocket learning algorithm implementation\n",
    "    \"\"\"\n",
    "    \n",
    "    def __init__(self, eta = 1, random_seed = 1, n_iterations = 100):\n",
    "        self.eta = eta\n",
    "        self.random_seed = random_seed\n",
    "        self.n_iterations = n_iterations \n",
    "    \n",
    "    def fit(self, X, y):\n",
    "        rn = np.random.RandomState(self.random_seed)\n",
    "        self.w_ = rn.normal(loc = 0, scale = 0.01, size = X.shape[1] + 1)\n",
    "        counter = 0\n",
    "        errors = True\n",
    "        \n",
    "        partial_w = self.w_.copy()\n",
    "        partial_error_in_sample = 0\n",
    "        self.error_in_sample_ = 0 \n",
    "        \n",
    "        while errors and (counter < self.n_iterations):\n",
    "            errors = 0\n",
    "            error_freq = 0\n",
    "            for X_i, y_i in zip(X, y):\n",
    "                if y_i != self.predict(X_i):\n",
    "                    # update weights for misclassified points\n",
    "                    update = self.eta * y_i\n",
    "                    self.w_[1:] += update * X_i\n",
    "                    self.w_[0] += update\n",
    "                    errors += 1    \n",
    "            for X_i, y_i in zip(X, y):\n",
    "                if y_i != self.predict(X_i):\n",
    "                    # count misclassified points AFTER analyze all of them \n",
    "                    error_freq += 1\n",
    "                partial_error_in_sample = (1 / X.shape[0]) * error_freq\n",
    "            if (counter == 0) or (partial_error_in_sample < self.error_in_sample_):\n",
    "                # update smallest error and best weights vector\n",
    "                self.error_in_sample_ = partial_error_in_sample  \n",
    "                partial_w = self.w_.copy()\n",
    "            counter += 1\n",
    "            \n",
    "        self.w_ = partial_w.copy()\n",
    "        return self\n",
    "    \n",
    "    def predict(self, X_i):\n",
    "        eval_func = np.dot(X_i, self.w_[1:]) + self.w_[0]\n",
    "        return np.where(eval_func >= 0, 1, -1)"
   ]
  },
  {
   "cell_type": "code",
   "execution_count": 7,
   "metadata": {},
   "outputs": [
    {
     "name": "stdout",
     "output_type": "stream",
     "text": [
      "Weights vector: [-9.98375655 -1.494057   -4.21659422].\n",
      "Smallest error in-sample: 0.0038436899423446506.\n"
     ]
    }
   ],
   "source": [
    "my_pocket = Pocket(n_iterations = 100)\n",
    "my_pocket.fit(X, y)\n",
    "\n",
    "print(\"Weights vector: {}.\".format(my_pocket.w_))\n",
    "print(\"Smallest error in-sample: {}.\".format(my_pocket.error_in_sample_))"
   ]
  },
  {
   "cell_type": "code",
   "execution_count": 8,
   "metadata": {},
   "outputs": [],
   "source": [
    "def plot_decision_regions(X, y, classifier, feature_names, resolution = 0.01, plot_lim = 0.25):\n",
    "    # general settings\n",
    "    markers = [\"o\", \"s\", \"*\", \"x\", \"v\"]\n",
    "    colors  = (\"red\", \"green\", \"blue\", \"gray\", \"cyan\")\n",
    "    x1_min, x1_max = X[:, 0].min() - plot_lim, X[:, 0].max() + plot_lim\n",
    "    x2_min, x2_max = X[:, 1].min() - plot_lim, X[:, 1].max() + plot_lim\n",
    "    # define a grid\n",
    "    xx1, xx2 = np.meshgrid(np.arange(x1_min, x1_max, resolution),\n",
    "                           np.arange(x2_min, x2_max, resolution))\n",
    "    # classify each grid point\n",
    "    result = classifier.predict(np.array([xx1.ravel(), xx2.ravel()]).T)\n",
    "    result = result.reshape(xx1.shape)\n",
    "    # make a plot\n",
    "    plt.contourf(xx1, xx2, result, colors = colors[0:len(np.unique(y))], alpha = 0.5)\n",
    "    for index, value in enumerate(np.unique(y)): \n",
    "        plt.scatter(x = X[y == value, 0], y = X[y == value, 1], \n",
    "                    color = colors[index],\n",
    "                    marker = markers[index],\n",
    "                    label = feature_names[index],\n",
    "                    edgecolor = 'black')"
   ]
  },
  {
   "cell_type": "code",
   "execution_count": 9,
   "metadata": {},
   "outputs": [
    {
     "data": {
      "image/png": "[encoded data removed]",
      "text/plain": [
       "<Figure size 432x288 with 1 Axes>"
      ]
     },
     "metadata": {
      "needs_background": "light"
     },
     "output_type": "display_data"
    }
   ],
   "source": [
    "feature_names = ['Number 1', 'Number 5']\n",
    "plot_decision_regions(X, y, my_pocket, feature_names, plot_lim = 0.15)\n",
    "plt.title(\"Fitted model with Pocket Learning Algorithm\")\n",
    "plt.xlabel(\"Intensity measure\")\n",
    "plt.ylabel(\"Symmetry measure\")\n",
    "plt.legend(loc = 1)\n",
    "plt.show()"
   ]
  }
 ],
 "metadata": {
  "kernelspec": {
   "display_name": "Python 3",
   "language": "python",
   "name": "python3"
  },
  "language_info": {
   "codemirror_mode": {
    "name": "ipython",
    "version": 3
   },
   "file_extension": ".py",
   "mimetype": "text/x-python",
   "name": "python",
   "nbconvert_exporter": "python",
   "pygments_lexer": "ipython3",
   "version": "3.6.9"
  }
 },
 "nbformat": 4,
 "nbformat_minor": 2
}
